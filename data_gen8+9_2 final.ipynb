{
 "cells": [
  {
   "cell_type": "code",
   "execution_count": 218,
   "metadata": {},
   "outputs": [],
   "source": [
    "import numpy as np\n",
    "import pickle\n",
    "import matplotlib.pyplot as plt"
   ]
  },
  {
   "cell_type": "code",
   "execution_count": 1300,
   "metadata": {},
   "outputs": [],
   "source": [
    "# parameters\n",
    "mode = 'test2'     # ['train', 'test', 'test2']\n",
    "sampl_rate = 0.001 #0.001   # [1.0, 0.5, 0.2, 0.1, 0.05, 0.01, 0.001]\n",
    "# label smoothing parameters\n",
    "label_smoothing = False #True     # [True, False]\n",
    "alpha = 30 #10      # 10: 0.1%, 7: 1%, 3: 5%, 3: 10%, 1.5: 50%, 1: 100%\n",
    "beta = 121 #31       # 61: 0.1%, 21: 1%,   7: 50%\n",
    "gamma = 15 #7      # 5: 0.1%, 3: 1%,    1: 50%"
   ]
  },
  {
   "cell_type": "code",
   "execution_count": 1301,
   "metadata": {},
   "outputs": [],
   "source": [
    "if mode == 'train':\n",
    "#     dataset100 = pickle.load(open(\"./datasets_expscale/nyc_taxi_expscale_100%_1000m_5min_train_2015-01-01_2015-02-09.pkl\", 'rb'))\n",
    "    dataset100 = pickle.load(open(\"./datasets_expscale_both/nyc_taxi_expscale_100%_1000m_5min_train_2015-01-01_2015-02-09.pkl\", 'rb'))\n",
    "elif mode == 'test':\n",
    "#     dataset100 = pickle.load(open(\"./datasets_expscale/nyc_taxi_expscale_100%_1000m_5min_test_2015-02-09_2015-03-01.pkl\", 'rb'))\n",
    "    dataset100 = pickle.load(open(\"./datasets_expscale_both/nyc_taxi_expscale_100%_1000m_5min_test_2015-02-09_2015-03-01.pkl\", 'rb'))\n",
    "elif mode == 'test2':\n",
    "    dataset100 = pickle.load(open(\"./datasets_expscale_both/nyc_taxi_expscale_100%_1000m_5min_test2_2015-03-01_2015-04-01.pkl\", 'rb'))        "
   ]
  },
  {
   "cell_type": "code",
   "execution_count": 1302,
   "metadata": {},
   "outputs": [],
   "source": [
    "# dataset100 = pickle.load(open(\"./datasets/nyc_taxi_vdct_randsampled2_100%_1000m_10min_test_2015-02-09_2015-02-10.pkl\", 'rb'))\n",
    "# dataset8sEPS = pickle.load(open(\"./datasets/nyc_taxi_vdct_randsampled2_8%_1000m_10min_test_2015-02-09_2015-02-10_smallEPS.pkl\", 'rb'))\n",
    "# dataset01 = pickle.load(open(\"./datasets/nyc_taxi_vdct_randsampled2_0%_1000m_10min_test_2015-02-09_2015-02-10.pkl\", 'rb'))"
   ]
  },
  {
   "cell_type": "code",
   "execution_count": 1303,
   "metadata": {},
   "outputs": [
    {
     "data": {
      "text/plain": [
       "(8928, 2, (10, 20, 2), Timestamp('2015-03-01 00:00:00', freq='5T'))"
      ]
     },
     "execution_count": 1303,
     "metadata": {},
     "output_type": "execute_result"
    }
   ],
   "source": [
    "# len(dataset100), len(dataset100[0]), dataset100[0][0][0].shape, dataset100[0][0][1].shape, dataset100[0][0][2].shape, dataset100[0][0][3].shape, dataset100[0][1].shape, dataset100[0][2]\n",
    "len(dataset100), len(dataset100[0]), dataset100[0][0].shape, dataset100[0][1]"
   ]
  },
  {
   "cell_type": "code",
   "execution_count": 1304,
   "metadata": {},
   "outputs": [],
   "source": [
    "def get_labs(dataset):\n",
    "    # all_vinps = np.zeros([len(dataset), dataset[0][0][0].shape[0], dataset[0][0][0].shape[1], dataset[0][0][0].shape[2]])\n",
    "    # all_dinps = np.zeros([len(dataset), dataset[0][0][1].shape[0], dataset[0][0][1].shape[1], dataset[0][0][1].shape[2]])\n",
    "#     all_cinps = np.zeros([len(dataset), dataset[0][0][2].shape[0], dataset[0][0][2].shape[1], dataset[0][0][2].shape[2]])\n",
    "    # all_totinps = np.zeros([len(dataset), dataset[0][0][3].shape[0]])\n",
    "#     all_labs = np.zeros([len(dataset), dataset[0][1].shape[0], dataset[0][1].shape[1], dataset[0][1].shape[2]])\n",
    "    all_labs = np.zeros([len(dataset), dataset[0][0].shape[0], dataset[0][0].shape[1], dataset[0][0].shape[2]])\n",
    "    # all_crnts = []\n",
    "    # print(all_vinps.shape, all_dinps.shape, all_cinps.shape, all_totinps.shape, all_labs.shape)\n",
    "\n",
    "    for i in range(len(dataset)):\n",
    "    #     all_vinps[i] = dataset[i][0][0]# * 26\n",
    "    #     all_dinps[i] = dataset[i][0][1]# * 31\n",
    "#         all_cinps[i] = dataset[i][0][2]\n",
    "    #     all_totinps[i] = dataset[i][0][3]\n",
    "        all_labs[i] = dataset[i][0]\n",
    "    #     all_crnts.append(dataset[0][2])\n",
    "\n",
    "#     all_labs[:,:,:,0] = all_labs[:,:,:,0]# * 26\n",
    "#     return all_cinps, all_labs\n",
    "    return all_labs"
   ]
  },
  {
   "cell_type": "code",
   "execution_count": 1305,
   "metadata": {},
   "outputs": [
    {
     "name": "stdout",
     "output_type": "stream",
     "text": [
      "(8928, 10, 20, 1) (8928, 10, 20, 1)\n"
     ]
    }
   ],
   "source": [
    "labs100 = get_labs(dataset100)\n",
    "# if mode == 'test2':\n",
    "#     labs100 = labs100[:,:,:,0:1]\n",
    "dlabs100 = labs100[:,:,:,1:]\n",
    "labs100 = labs100[:,:,:,:1]\n",
    "print(labs100.shape, dlabs100.shape)"
   ]
  },
  {
   "cell_type": "code",
   "execution_count": 1306,
   "metadata": {},
   "outputs": [],
   "source": [
    "# cinps100, labs100 = get_labs(dataset100)\n",
    "# cinps8sEPS, labs8sEPS = get_labs(dataset8sEPS)\n",
    "# cinps01, labs01 = get_labs(dataset01)"
   ]
  },
  {
   "cell_type": "code",
   "execution_count": 1307,
   "metadata": {},
   "outputs": [
    {
     "data": {
      "text/plain": [
       "(11461015.0, 9830844.0)"
      ]
     },
     "execution_count": 1307,
     "metadata": {},
     "output_type": "execute_result"
    }
   ],
   "source": [
    "np.sum(labs100[:,:,:,0]), np.sum(dlabs100[:,:,:,0])"
   ]
  },
  {
   "cell_type": "code",
   "execution_count": 1308,
   "metadata": {},
   "outputs": [],
   "source": [
    "# cinps100.shape, cinps8sEPS.shape, cinps01.shape"
   ]
  },
  {
   "cell_type": "code",
   "execution_count": 1309,
   "metadata": {},
   "outputs": [],
   "source": [
    "import copy\n",
    "\n",
    "def sampler(labs, sigma, sampling_rate, rand_mat = None):\n",
    "    print(np.min(labs[:,:,:,0]), np.max(labs[:,:,:,0]), np.mean(labs[:,:,:,0]))\n",
    "    \n",
    "    new_labs = np.zeros_like(labs)\n",
    "    total_calls = np.sum(labs[:,:,:,0])\n",
    "    avg_calls = np.mean(labs[:,:,:,0])\n",
    "    std_calls = np.std(labs[:,:,:,0])\n",
    "    total_bins = labs.shape[0] * labs.shape[1] * labs.shape[2]\n",
    "    print(\"total_calls:\", total_calls, \"total_bins:\", total_bins, \"avg_calls:\", avg_calls, \"std_calls:\", std_calls)\n",
    "    cut_off = avg_calls + sigma * std_calls\n",
    "#     cut_off = (total_calls / total_bins) * (1 - sampling_rate)\n",
    "    print(\"cut_off:\", cut_off)\n",
    "    cutted_off = copy.deepcopy(labs[:,:,:,:])\n",
    "#     cutted_off = copy.deepcopy(labs[:,:,:,0])\n",
    "    cutted_off = cutted_off - cut_off\n",
    "    cutted_off[cutted_off<0] = 0\n",
    "#     cutted_off = np.floor(cutted_off * sampling_rate)\n",
    "\n",
    "#     for i in range(labs.shape[0]):\n",
    "#         for j in range(labs.shape[1]):\n",
    "#             for k in range(labs.shape[2]):\n",
    "#                 if \n",
    "\n",
    "    total_after_cutting_off = np.sum(cutted_off)\n",
    "    cut_off_rate = np.sum(cutted_off) / np.sum(labs[:,:,:,0])\n",
    "    print(\"total_after_cutting_off:\", total_after_cutting_off, \"cut-off rate:\", cut_off_rate)\n",
    "    \n",
    "    # sampling process\n",
    "#     cutted_off = np.floor(cutted_off * sampling_rate)\n",
    "    if rand_mat is None:\n",
    "        rand_0to1 = np.random.rand(cutted_off.shape[0], cutted_off.shape[1], cutted_off.shape[2], cutted_off.shape[3])\n",
    "    else:\n",
    "        rand_0to1 = rand_mat\n",
    "#     cut_or_not = cutted_off/cutted_off\n",
    "#     cut_or_not[np.isnan(cut_or_not)]=0\n",
    "#     rand_0to1 = rand_0to1 * cut_or_not\n",
    "# #     print(np.sum(cut_or_not), set(cut_or_not.flatten()))\n",
    "#     rand_0to1 /= np.mean(rand_0to1)\n",
    "# #     print(np.mean(rand_0to1))\n",
    "#     print(np.amin(rand_0to1), np.amax(rand_0to1))\n",
    "    cutted_off = np.floor(cutted_off * (rand_0to1*2) * sampling_rate)\n",
    "\n",
    "    total_calls = np.sum(cutted_off[:,:,:,0])\n",
    "    avg_calls = np.mean(cutted_off[:,:,:,0])\n",
    "    std_calls = np.std(cutted_off[:,:,:,0])\n",
    "    total_bins = cutted_off.shape[0] * cutted_off.shape[1] * cutted_off.shape[2]\n",
    "    print(\"total_calls:\", total_calls, \"total_bins:\", total_bins, \"avg_calls:\", avg_calls, \"std_calls:\", std_calls)\n",
    "    \n",
    "    real_sampling_rate = np.sum(cutted_off) / np.sum(labs100[:,:,:,0])\n",
    "    print(\"real_sampling_rate:\", real_sampling_rate, \"(\", np.sum(cutted_off), \"/\", np.sum(labs100[:,:,:,0]) , \")\")\n",
    "    \n",
    "    return cutted_off, rand_0to1"
   ]
  },
  {
   "cell_type": "code",
   "execution_count": 1310,
   "metadata": {},
   "outputs": [],
   "source": [
    "# np.where(labs100 == 181.0)"
   ]
  },
  {
   "cell_type": "code",
   "execution_count": 1311,
   "metadata": {},
   "outputs": [
    {
     "name": "stdout",
     "output_type": "stream",
     "text": [
      "0.0 121.0 6.4185791890681\n",
      "total_calls: 11461015.0 total_bins: 1785600 avg_calls: 6.4185791890681 std_calls: 10.459850986448881\n",
      "cut_off: 56.625863924022724\n",
      "total_after_cutting_off: 50806.349553959815 cut-off rate: 0.00443297121188305\n",
      "total_calls: 14400.0 total_bins: 1785600 avg_calls: 0.008064516129032258 std_calls: 0.2431589435396776\n",
      "real_sampling_rate: 0.0012564332216649223 ( 14400.0 / 11461015.0 )\n",
      "0.0 126.0 5.505625\n",
      "total_calls: 9830844.0 total_bins: 1785600 avg_calls: 5.505625 std_calls: 8.980528066544787\n",
      "cut_off: 48.612159719414976\n",
      "total_after_cutting_off: 85718.43967892102 cut-off rate: 0.008719336781147276\n",
      "total_calls: 24883.0 total_bins: 1785600 avg_calls: 0.013935371863799282 std_calls: 0.39504962466587923\n",
      "real_sampling_rate: 0.002171099156575574 ( 24883.0 / 11461015.0 )\n",
      "(8928, 10, 20, 1) (8928, 10, 20, 1)\n"
     ]
    }
   ],
   "source": [
    "if sampl_rate == 1.0:\n",
    "    labs100cutoff = labs100     # 100% train & test\n",
    "    dlabs100cutoff = dlabs100\n",
    "elif sampl_rate == 0.5:\n",
    "    labs100cutoff, rand_mat = sampler(labs100, 0, 0.87)   # 50% train & test\n",
    "    dlabs100cutoff, _ = sampler(dlabs100, 0, 0.87, rand_mat)\n",
    "elif sampl_rate == 0.2:\n",
    "    labs100cutoff, rand_mat = sampler(labs100, 0.4, 0.50)   # 20% train & test\n",
    "    dlabs100cutoff, _ = sampler(dlabs100, 0.4, 0.50, rand_mat)   # 20% train & test\n",
    "elif sampl_rate == 0.1:\n",
    "    labs100cutoff, rand_mat = sampler(labs100, 1, 0.45)   # 10% train & test\n",
    "    dlabs100cutoff, _ = sampler(dlabs100, 1, 0.45, rand_mat)\n",
    "elif sampl_rate == 0.05:\n",
    "    labs100cutoff, rand_mat = sampler(labs100, 1.5, 0.35)   # 5% train & test\n",
    "    dlabs100cutoff, _ = sampler(dlabs100, 1.5, 0.35, rand_mat)\n",
    "elif sampl_rate == 0.01:\n",
    "    labs100cutoff, rand_mat = sampler(labs100, 3, 0.33)   # 1% train & test\n",
    "    dlabs100cutoff, _ = sampler(dlabs100, 3, 0.33, rand_mat)\n",
    "elif sampl_rate == 0.001:\n",
    "    labs100cutoff, rand_mat = sampler(labs100, 4.8, 0.33)     # 0.15% ~ 0.1% train & test    \n",
    "    dlabs100cutoff, _ = sampler(dlabs100, 4.8, 0.33, rand_mat)   # 0.1% train\n",
    "    \n",
    "else:\n",
    "    print(\"not defined.\")\n",
    "\n",
    "print(labs100cutoff.shape, dlabs100cutoff.shape)"
   ]
  },
  {
   "cell_type": "code",
   "execution_count": 1312,
   "metadata": {},
   "outputs": [
    {
     "data": {
      "image/png": "[encoded data removed]",
      "text/plain": [
       "<Figure size 432x288 with 1 Axes>"
      ]
     },
     "metadata": {
      "needs_background": "light"
     },
     "output_type": "display_data"
    },
    {
     "data": {
      "image/png": "[encoded data removed]",
      "text/plain": [
       "<Figure size 432x288 with 1 Axes>"
      ]
     },
     "metadata": {
      "needs_background": "light"
     },
     "output_type": "display_data"
    }
   ],
   "source": [
    "loc = (4,10) #(5,12) #(5,10) #(8,11)\n",
    "offset = 0 #0 #18000 #20000 #12500 #20000 #46000\n",
    "duration = 10000 #500 #10000 #1440 #10000 #2500 #10000 #200 #10000 #3000 #1000\n",
    "\n",
    "v = labs100[:,loc[0],loc[1],0]\n",
    "# c = labs100[:,loc[0],loc[1],1]\n",
    "# c2 = cinps100[:,loc[0],loc[1],:]\n",
    "# c2 = np.mean(c2[:,150:180], axis=1)  # mean(last 30 samples)\n",
    "\n",
    "fr = offset\n",
    "to = offset+duration\n",
    "plt.plot(v[fr:to], color='b')\n",
    "# plt.plot((c[fr:to]-5)*60, color='c')\n",
    "# plt.plot((c2[fr:to]-5)*60, color='m')\n",
    "plt.show()\n",
    "\n",
    "v = labs100cutoff[:,loc[0],loc[1],0]\n",
    "# c = labs100cutoff[:,loc[0],loc[1],1]\n",
    "# c = labs100[:,loc[0],loc[1],1]\n",
    "    \n",
    "# off = int(offset * real_sampling_rate)\n",
    "# dur = int(duration * real_sampling_rate)\n",
    "# fr = off\n",
    "# to = off+dur\n",
    "plt.plot(v[fr:to], color='b')\n",
    "# plt.plot((c[fr:to]-5)*60, color='c')\n",
    "plt.show()\n",
    "\n",
    "# v = labs8sEPS[:,loc[0],loc[1],0]\n",
    "# c = labs8sEPS[:,loc[0],loc[1],1]\n",
    "# c2 = cinps8sEPS[:,loc[0],loc[1],:]\n",
    "# c2 = np.mean(c2[:,0:25], axis=1)\n",
    "\n",
    "# off = offset//100*8\n",
    "# dur = duration//100*8\n",
    "# fr = off\n",
    "# to = off+dur\n",
    "# plt.plot(v[fr:to], color='b')\n",
    "# plt.plot(c[fr:to]-5, color='c')\n",
    "# plt.plot(c2[fr:to]-5, color='m')\n",
    "# plt.show()\n",
    "\n",
    "# v = labs01[:,loc[0],loc[1],0]\n",
    "# c = labs01[:,loc[0],loc[1],1]\n",
    "# c2 = cinps01[:,loc[0],loc[1],:]\n",
    "# c2 = np.mean(c2[:,0:5], axis=1)\n",
    "\n",
    "# off = offset//1000\n",
    "# dur = duration//1000+1\n",
    "# fr = off\n",
    "# to = off+dur\n",
    "# plt.plot(v[fr:to], color='b')\n",
    "# plt.plot(c[fr:to]-5, color='c')\n",
    "# plt.plot(c2[fr:to]-5, color='m')\n",
    "# # plt.plot(2.5-c2[fr:to], color='r')\n",
    "# plt.show()"
   ]
  },
  {
   "cell_type": "code",
   "execution_count": 1313,
   "metadata": {},
   "outputs": [],
   "source": [
    "BIN_LENGTHS = [1, 2, 3, 6, 12, 24, 36, 72, 144, 288]  # 5min * 288 = 1440\n",
    "# BIN_LENGTHS = [1, 2, 3, 6, 12, 24, 36, 72, 144, 288, 576, 1152]  # 5min * 288 = 1440\n",
    "max_bin = np.amax(BIN_LENGTHS) #1152 #288\n",
    "INPUT_WINDOW_SIZE = len(BIN_LENGTHS)\n",
    "\n",
    "def vary_length_bins(labs):\n",
    "#     global INPUT_WINDOW_SIZE\n",
    "    input_dat = np.zeros([INPUT_WINDOW_SIZE, labs.shape[1], labs.shape[2], labs.shape[3]])\n",
    "    \n",
    "    for i in range(INPUT_WINDOW_SIZE):\n",
    "        if i == 0:            \n",
    "            input_dat[-1] = labs[-1:]\n",
    "        else:\n",
    "#             input_dat[-i] = np.sum(labs[-i:-prev_i], axis=(1,2,3))\n",
    "            input_dat[-(i+1)] = np.sum(labs[-BIN_LENGTHS[i]:-BIN_LENGTHS[prev_i]], axis=0)\n",
    "        prev_i = i\n",
    "    \n",
    "    input_dat = input_dat[:,:,:,0]\n",
    "    input_dat = np.transpose(input_dat, (1,2,0))\n",
    "    \n",
    "    return input_dat"
   ]
  },
  {
   "cell_type": "code",
   "execution_count": 1314,
   "metadata": {},
   "outputs": [],
   "source": [
    "# [1, 2, 3, 6, 12, 24, 36, 72, 144, 288]\n",
    "# a = [5, 5, 5, 15, 30, 60, 60, 180, 360, 720] \n",
    "# np.sum(a)"
   ]
  },
  {
   "cell_type": "code",
   "execution_count": 1315,
   "metadata": {},
   "outputs": [
    {
     "name": "stdout",
     "output_type": "stream",
     "text": [
      "(8640, 10, 20, 10)\n",
      "(8640, 10, 20, 10)\n"
     ]
    }
   ],
   "source": [
    "labs100cutoff.shape\n",
    "input_dats = np.zeros([len(labs100cutoff)-max_bin, labs100cutoff.shape[1], labs100cutoff.shape[2], INPUT_WINDOW_SIZE])\n",
    "\n",
    "for i in range(len(labs100cutoff)-max_bin):\n",
    "#     print(labs100cutoff[i:i+288].shape)\n",
    "#     print(vary_length_bins(labs100cutoff[i:i+288]).shape)\n",
    "    input_dats[i] = vary_length_bins(labs100cutoff[i:i+max_bin])\n",
    "print(input_dats.shape)\n",
    "\n",
    "dinput_dats = np.zeros([len(labs100cutoff)-max_bin, labs100cutoff.shape[1], labs100cutoff.shape[2], INPUT_WINDOW_SIZE])\n",
    "\n",
    "for i in range(len(labs100cutoff)-max_bin):\n",
    "#     print(labs100cutoff[i:i+288].shape)\n",
    "#     print(vary_length_bins(labs100cutoff[i:i+288]).shape)\n",
    "    dinput_dats[i] = vary_length_bins(dlabs100cutoff[i:i+max_bin])\n",
    "print(dinput_dats.shape)"
   ]
  },
  {
   "cell_type": "code",
   "execution_count": 1316,
   "metadata": {},
   "outputs": [
    {
     "data": {
      "image/png": "[encoded data removed]",
      "text/plain": [
       "<Figure size 432x288 with 1 Axes>"
      ]
     },
     "metadata": {
      "needs_background": "light"
     },
     "output_type": "display_data"
    },
    {
     "data": {
      "image/png": "[encoded data removed]",
      "text/plain": [
       "<Figure size 432x288 with 1 Axes>"
      ]
     },
     "metadata": {
      "needs_background": "light"
     },
     "output_type": "display_data"
    },
    {
     "data": {
      "image/png": "[encoded data removed]",
      "text/plain": [
       "<Figure size 432x288 with 1 Axes>"
      ]
     },
     "metadata": {
      "needs_background": "light"
     },
     "output_type": "display_data"
    }
   ],
   "source": [
    "loc = (5,12) #(8,11)\n",
    "offset = 288 #1900 #288 #8000 #0 #18000 #20000 #12500 #20000 #46000\n",
    "duration = 10000 #100 #10000 #500 #10000 #1440 #10000 #2500 #10000 #200 #10000 #3000 #1000\n",
    "\n",
    "v = labs100[:,loc[0],loc[1],0]\n",
    "\n",
    "fr = offset\n",
    "to = offset+duration\n",
    "plt.plot(v[fr:to], color='b')\n",
    "plt.show()\n",
    "\n",
    "v = labs100cutoff[:,loc[0],loc[1],0]\n",
    "# off = int(offset * real_sampling_rate)\n",
    "# dur = int(duration * real_sampling_rate)\n",
    "# fr = off\n",
    "# to = off+dur\n",
    "plt.plot(v[fr:to], color='b')\n",
    "plt.show()\n",
    "\n",
    "# input_dat\n",
    "v = input_dats[:,loc[0],loc[1],-1]\n",
    "off = int(offset - 288)\n",
    "dur = int(duration)\n",
    "fr = off\n",
    "to = off+dur\n",
    "plt.plot(v[fr:to], color='b')\n",
    "plt.show()\n"
   ]
  },
  {
   "cell_type": "code",
   "execution_count": 1317,
   "metadata": {},
   "outputs": [
    {
     "name": "stdout",
     "output_type": "stream",
     "text": [
      "287\n"
     ]
    },
    {
     "data": {
      "text/plain": [
       "(0.0, array([0.]), array([0.]))"
      ]
     },
     "execution_count": 1317,
     "metadata": {},
     "output_type": "execute_result"
    }
   ],
   "source": [
    "i = 4020#+1000 #4016\n",
    "min_after = 2 # 10 minutes after\n",
    "gap = (max_bin-1) #+ min_after # 10 minutes after\n",
    "print(gap)\n",
    "input_dats[i][5][12][-1], labs100cutoff[i+gap][5][12], labs100cutoff[i+gap+min_after][5][12]"
   ]
  },
  {
   "cell_type": "code",
   "execution_count": 1318,
   "metadata": {},
   "outputs": [
    {
     "data": {
      "text/plain": [
       "8640"
      ]
     },
     "execution_count": 1318,
     "metadata": {},
     "output_type": "execute_result"
    }
   ],
   "source": [
    "input_dats.shape[0]"
   ]
  },
  {
   "cell_type": "code",
   "execution_count": 1319,
   "metadata": {},
   "outputs": [
    {
     "name": "stdout",
     "output_type": "stream",
     "text": [
      "-8638\n"
     ]
    }
   ],
   "source": [
    "# 2015-01-01 00:00 ~ 2015-02-09 00:00\n",
    "# 날짜로는 (31일 + 8일) * 24시간 * 12(5분) = 11232타임슬롯. 맞네!!\n",
    "\n",
    "in_out_pair = np.zeros([input_dats.shape[0]-min_after, input_dats.shape[1], input_dats.shape[2], 2*input_dats.shape[3]+labs100cutoff.shape[3]], dtype=input_dats.dtype)\n",
    "#print(in_out_pair.shape)\n",
    "\n",
    "# input\n",
    "# in_out_pair[:,:,:,0:input_dats.shape[3]] = input_dats[0:input_dats.shape[0]-min_after,:,:,:]\n",
    "in_out_pair[:,:,:,0:input_dats.shape[3]] = dinput_dats[0:input_dats.shape[0]-min_after,:,:,:]\n",
    "in_out_pair[:,:,:,input_dats.shape[3]:2*input_dats.shape[3]] = input_dats[0:input_dats.shape[0]-min_after,:,:,:]\n",
    "\n",
    "print(-(input_dats.shape[0]-min_after))\n",
    "\n",
    "in_out_pair[:,:,:,2*input_dats.shape[3]:2*input_dats.shape[3]+labs100cutoff.shape[3]] = labs100cutoff[-(input_dats.shape[0]-2+2):-2,:,:,:] + labs100cutoff[-(input_dats.shape[0]-2+1):-1,:,:,:]   # 그럼 한칸씩 앞으로 땡기자.\n",
    "\n",
    "# if label_smoothing:\n",
    "#     # smoothed label\n",
    "#     # in_out_pair[:,:,:,input_dats.shape[3]:input_dats.shape[3]+labs100cut_and_smoothed.shape[3]] = labs100cut_and_smoothed[-(input_dats.shape[0]-min_after):,:,:,:]\n",
    "#     # smoothed label: 0min ~ 5min after + 5min after ~ 10min after\n",
    "#     # in_out_pair[:,:,:,input_dats.shape[3]:input_dats.shape[3]+labs100cut_and_smoothed.shape[3]] = labs100cut_and_smoothed[-(input_dats.shape[0]-2):,:,:,:] + labs100cut_and_smoothed[-(input_dats.shape[0]-2+1):-1,:,:,:]\n",
    "#     in_out_pair[:,:,:,input_dats.shape[3]:input_dats.shape[3]+labs100cutoff.shape[3]] = labs100cut_and_smoothed[-(input_dats.shape[0]-2+2):-2,:,:,:] + labs100cut_and_smoothed[-(input_dats.shape[0]-2+1):-1,:,:,:]   # 그럼 한칸씩 앞으로 땡기자.\n",
    "# else:\n",
    "#     # for unsmoothed label\n",
    "#     # in_out_pair[:,:,:,input_dats.shape[3]:input_dats.shape[3]+labs100cutoff.shape[3]] = labs100cutoff[-(input_dats.shape[0]-min_after):,:,:,:]\n",
    "#     # in_out_pair[:,:,:,input_dats.shape[3]:input_dats.shape[3]+labs100cutoff.shape[3]] = labs100cutoff[-(input_dats.shape[0]-2):,:,:,:] + labs100cutoff[-(input_dats.shape[0]-2+1):-1,:,:,:]   # 한칸 건너 뛰었다?\n",
    "#     in_out_pair[:,:,:,input_dats.shape[3]:input_dats.shape[3]+labs100cutoff.shape[3]] = labs100cutoff[-(input_dats.shape[0]-2+2):-2,:,:,:] + labs100cutoff[-(input_dats.shape[0]-2+1):-1,:,:,:]   # 그럼 한칸씩 앞으로 땡기자."
   ]
  },
  {
   "cell_type": "code",
   "execution_count": 1320,
   "metadata": {},
   "outputs": [
    {
     "name": "stdout",
     "output_type": "stream",
     "text": [
      "(8638, 10, 20, 21)\n",
      "11\n"
     ]
    },
    {
     "data": {
      "text/plain": [
       "(0.0, '/', 0.0, '+', 0.0, '=', 0.0)"
      ]
     },
     "execution_count": 1320,
     "metadata": {},
     "output_type": "execute_result"
    }
   ],
   "source": [
    "print(in_out_pair.shape)\n",
    "print(input_dats.shape[3]+labs100cut_and_smoothed.shape[3])\n",
    "i = 4016 #4023+1001 #4016\n",
    "# in_out_pair[i+2][5][10][-2], in_out_pair[i+3][5][10][-2], in_out_pair[i][5][10][-1]\n",
    "in_out_pair[i][5][12][-2], \"/\", in_out_pair[i+1][5][12][-2], \"+\", in_out_pair[i+2][5][12][-2], \"=\", in_out_pair[i][5][12][-1]"
   ]
  },
  {
   "cell_type": "code",
   "execution_count": 1321,
   "metadata": {},
   "outputs": [
    {
     "data": {
      "image/png": "[encoded data removed]",
      "text/plain": [
       "<Figure size 432x288 with 1 Axes>"
      ]
     },
     "metadata": {
      "needs_background": "light"
     },
     "output_type": "display_data"
    },
    {
     "data": {
      "image/png": "[encoded data removed]",
      "text/plain": [
       "<Figure size 432x288 with 1 Axes>"
      ]
     },
     "metadata": {
      "needs_background": "light"
     },
     "output_type": "display_data"
    }
   ],
   "source": [
    "loc = (5,12) #(8,11)\n",
    "offset = 2200 #1900 #288 #8000 #0 #18000 #20000 #12500 #20000 #46000\n",
    "duration = 100 #10000 #500 #10000 #1440 #10000 #2500 #10000 #200 #10000 #3000 #1000\n",
    "\n",
    "# v = in_out_pair[:,loc[0],loc[1],-2]\n",
    "v = in_out_pair[:,loc[0],loc[1],-3] + in_out_pair[:,loc[0],loc[1],-2]   # -15min ~ -5min\n",
    "\n",
    "fr = offset\n",
    "to = offset+duration\n",
    "plt.plot(v[fr:to], color='b')\n",
    "plt.show()\n",
    "\n",
    "v = in_out_pair[:,loc[0],loc[1],-1]\n",
    "plt.plot(v[fr:to], color='b')\n",
    "plt.show()"
   ]
  },
  {
   "cell_type": "code",
   "execution_count": null,
   "metadata": {},
   "outputs": [],
   "source": []
  },
  {
   "cell_type": "code",
   "execution_count": 1322,
   "metadata": {},
   "outputs": [
    {
     "name": "stdout",
     "output_type": "stream",
     "text": [
      "in_and_out3_0%_1000m_5min_test2_2015-03-01_2015-04-01.npy saved.\n"
     ]
    }
   ],
   "source": [
    "if mode == 'train':\n",
    "    np.save(f\"in_and_out3_{int(sampl_rate*100)}%_1000m_5min_train_2015-01-01_2015-02-09.npy\", in_out_pair)\n",
    "    print(f\"in_and_out3_{int(sampl_rate*100)}%_1000m_5min_train_2015-01-01_2015-02-09.npy saved.\")\n",
    "elif mode == 'test':\n",
    "    np.save(f\"in_and_out3_{int(sampl_rate*100)}%_1000m_5min_test_2015-02-09_2015-03-01.npy\", in_out_pair)\n",
    "    print(f\"in_and_out3_{int(sampl_rate*100)}%_1000m_5min_test_2015-02-09_2015-03-01.npy saved.\")\n",
    "elif mode == 'test2':\n",
    "    np.save(f\"in_and_out3_{int(sampl_rate*100)}%_1000m_5min_test2_2015-03-01_2015-04-01.npy\", in_out_pair)\n",
    "    print(f\"in_and_out3_{int(sampl_rate*100)}%_1000m_5min_test2_2015-03-01_2015-04-01.npy saved.\")\n",
    "    \n",
    "# np.save(\"in_and_out2_0.1%_1000m_5min_train_2015-01-01_2015-02-09.npy\", in_out_pair)\n",
    "# np.save(\"in_and_out2_0.1%_1000m_5min_test_2015-02-09_2015-03-01.npy\", in_out_pair)\n",
    "# np.save(\"in_and_out2_0.1%_1000m_5min_test2_2015-03-01_2015-04-01.npy\", in_out_pair)"
   ]
  },
  {
   "cell_type": "code",
   "execution_count": null,
   "metadata": {},
   "outputs": [],
   "source": []
  },
  {
   "cell_type": "code",
   "execution_count": null,
   "metadata": {},
   "outputs": [],
   "source": []
  },
  {
   "cell_type": "code",
   "execution_count": null,
   "metadata": {},
   "outputs": [],
   "source": []
  },
  {
   "cell_type": "code",
   "execution_count": 1323,
   "metadata": {},
   "outputs": [],
   "source": [
    "def min5_to_10(labs):\n",
    "    new_labs = np.zeros([labs.shape[0]//2, labs.shape[1], labs.shape[2], labs.shape[3]], dtype=labs.dtype)\n",
    "    for i in range(labs.shape[0]//2):\n",
    "        new_labs[i] += labs[i*2] + labs[i*2+1]\n",
    "    \n",
    "    return new_labs"
   ]
  },
  {
   "cell_type": "code",
   "execution_count": 1324,
   "metadata": {},
   "outputs": [
    {
     "data": {
      "text/plain": [
       "((8928, 10, 20, 1), (8928, 10, 20, 1))"
      ]
     },
     "execution_count": 1324,
     "metadata": {},
     "output_type": "execute_result"
    }
   ],
   "source": [
    "labs100cutoff.shape, dlabs100cutoff.shape"
   ]
  },
  {
   "cell_type": "code",
   "execution_count": 1325,
   "metadata": {},
   "outputs": [
    {
     "data": {
      "text/plain": [
       "((4464, 10, 20, 1), 14400.0, 14400.0)"
      ]
     },
     "execution_count": 1325,
     "metadata": {},
     "output_type": "execute_result"
    }
   ],
   "source": [
    "new_labs = min5_to_10(labs100cutoff)\n",
    "new_dlabs = min5_to_10(dlabs100cutoff)\n",
    "new_labs.shape, np.sum(new_labs), np.sum(labs100cutoff)"
   ]
  },
  {
   "cell_type": "code",
   "execution_count": 1326,
   "metadata": {},
   "outputs": [],
   "source": [
    "labs100cutoff = new_labs\n",
    "dlabs100cutoff = new_dlabs"
   ]
  },
  {
   "cell_type": "code",
   "execution_count": 1327,
   "metadata": {},
   "outputs": [],
   "source": [
    "BIN_LENGTHS = list(range(1,25))  # 10min * 6 * 4hours = 24\n",
    "INPUT_WINDOW_SIZE = len(BIN_LENGTHS)\n",
    "\n",
    "def vary_length_bins(labs):\n",
    "#     global INPUT_WINDOW_SIZE\n",
    "    input_dat = np.zeros([INPUT_WINDOW_SIZE, labs.shape[1], labs.shape[2], labs.shape[3]])\n",
    "    \n",
    "    for i in range(INPUT_WINDOW_SIZE):\n",
    "        if i == 0:            \n",
    "            input_dat[-1] = labs[-1:]\n",
    "        else:\n",
    "#             input_dat[-i] = np.sum(labs[-i:-prev_i], axis=(1,2,3))\n",
    "            input_dat[-(i+1)] = np.sum(labs[-BIN_LENGTHS[i]:-BIN_LENGTHS[prev_i]], axis=0)\n",
    "        prev_i = i\n",
    "    \n",
    "    input_dat = input_dat[:,:,:,0]\n",
    "    input_dat = np.transpose(input_dat, (1,2,0))\n",
    "    \n",
    "    return input_dat"
   ]
  },
  {
   "cell_type": "code",
   "execution_count": 1328,
   "metadata": {},
   "outputs": [
    {
     "name": "stdout",
     "output_type": "stream",
     "text": [
      "(4440, 10, 20, 24)\n",
      "(4440, 10, 20, 24)\n"
     ]
    }
   ],
   "source": [
    "# labs100cutoff.shape\n",
    "input_dats = np.zeros([len(labs100cutoff)-24, labs100cutoff.shape[1], labs100cutoff.shape[2], INPUT_WINDOW_SIZE])\n",
    "\n",
    "for i in range(len(labs100cutoff)-24):\n",
    "#     print(labs100cutoff[i:i+288].shape)\n",
    "#     print(vary_length_bins(labs100cutoff[i:i+288]).shape)\n",
    "    input_dats[i] = vary_length_bins(labs100cutoff[i:i+24])\n",
    "print(input_dats.shape)\n",
    "\n",
    "dinput_dats = np.zeros([len(labs100cutoff)-24, labs100cutoff.shape[1], labs100cutoff.shape[2], INPUT_WINDOW_SIZE])\n",
    "\n",
    "for i in range(len(labs100cutoff)-24):\n",
    "#     print(labs100cutoff[i:i+288].shape)\n",
    "#     print(vary_length_bins(labs100cutoff[i:i+288]).shape)\n",
    "    dinput_dats[i] = vary_length_bins(dlabs100cutoff[i:i+24])\n",
    "print(dinput_dats.shape)"
   ]
  },
  {
   "cell_type": "code",
   "execution_count": 1329,
   "metadata": {},
   "outputs": [
    {
     "name": "stdout",
     "output_type": "stream",
     "text": [
      "(4440, 10, 20, 24)\n",
      "True\n",
      "(4464, 10, 20, 1)\n",
      "(4440, 10, 20, 24)\n",
      "True\n",
      "(4464, 10, 20, 1)\n"
     ]
    }
   ],
   "source": [
    "print(input_dats.shape)\n",
    "print(input_dats.shape[0]+24 == labs100cutoff.shape[0])\n",
    "print(labs100cutoff.shape)\n",
    "\n",
    "print(dinput_dats.shape)\n",
    "print(dinput_dats.shape[0]+24 == dlabs100cutoff.shape[0])\n",
    "print(dlabs100cutoff.shape)"
   ]
  },
  {
   "cell_type": "code",
   "execution_count": 1330,
   "metadata": {},
   "outputs": [
    {
     "name": "stdout",
     "output_type": "stream",
     "text": [
      "0.0 [0.]\n",
      "0.0 [0.]\n"
     ]
    }
   ],
   "source": [
    "i = 100 #3000+1 #4016\n",
    "min_after = 1 # 10 minutes after\n",
    "gap = (4*6-1) + min_after # input: (4hours*6)*10 minutes + 10 minutes after\n",
    "print(input_dats[i][5][10][-1], labs100cutoff[i+gap-1][5][10])\n",
    "print(dinput_dats[i][5][10][-1], dlabs100cutoff[i+gap-1][5][10])"
   ]
  },
  {
   "cell_type": "code",
   "execution_count": 1331,
   "metadata": {},
   "outputs": [
    {
     "name": "stdout",
     "output_type": "stream",
     "text": [
      "(4439, 10, 20, 49)\n",
      "-4439\n"
     ]
    }
   ],
   "source": [
    "# 2015-01-01 00:00 ~ 2015-02-09 00:00\n",
    "# 날짜로는 (31일 + 8일) * 24시간 * 12(5분) = 11232타임슬롯. 맞네!!\n",
    "\n",
    "in_out_pair = np.zeros([input_dats.shape[0]-min_after, input_dats.shape[1], input_dats.shape[2], 2*input_dats.shape[3]+labs100cutoff.shape[3]], dtype=input_dats.dtype)\n",
    "print(in_out_pair.shape)\n",
    "\n",
    "# input\n",
    "# in_out_pair[:,:,:,0:input_dats.shape[3]] =  input_dats[0:input_dats.shape[0]-min_after,:,:,:]\n",
    "in_out_pair[:,:,:,0:input_dats.shape[3]] = dinput_dats[0:input_dats.shape[0]-min_after,:,:,:]\n",
    "in_out_pair[:,:,:,input_dats.shape[3]:2*input_dats.shape[3]] = input_dats[0:input_dats.shape[0]-min_after,:,:,:]\n",
    "\n",
    "print(-(input_dats.shape[0]-min_after))\n",
    "# for unsmoothed label\n",
    "in_out_pair[:,:,:,2*input_dats.shape[3]:2*input_dats.shape[3]+labs100cutoff.shape[3]] = labs100cutoff[-(input_dats.shape[0]-1+1):-1,:,:,:]   # 그럼 한칸씩 앞으로 땡기자."
   ]
  },
  {
   "cell_type": "code",
   "execution_count": 1332,
   "metadata": {},
   "outputs": [
    {
     "name": "stdout",
     "output_type": "stream",
     "text": [
      "(4439, 10, 20, 49)\n",
      "25\n"
     ]
    },
    {
     "data": {
      "text/plain": [
       "(0.0, '/', 0.0, '=', 0.0)"
      ]
     },
     "execution_count": 1332,
     "metadata": {},
     "output_type": "execute_result"
    }
   ],
   "source": [
    "print(in_out_pair.shape)\n",
    "print(input_dats.shape[3]+labs100cutoff.shape[3])\n",
    "i = 201 #4023+2 #4016\n",
    "# in_out_pair[i+2][5][10][-2], in_out_pair[i+3][5][10][-2], in_out_pair[i][5][10][-1]\n",
    "in_out_pair[i][5][10][-2], \"/\", in_out_pair[i+1][5][10][-2], \"=\", in_out_pair[i][5][10][-1]"
   ]
  },
  {
   "cell_type": "code",
   "execution_count": 1333,
   "metadata": {},
   "outputs": [
    {
     "name": "stdout",
     "output_type": "stream",
     "text": [
      "in_and_out3_0%_1000m_10min_test2_2015-03-01_2015-04-01.npy saved.\n"
     ]
    }
   ],
   "source": [
    "if mode == 'train':\n",
    "    np.save(f\"in_and_out3_{int(sampl_rate*100)}%_1000m_10min_train_2015-01-01_2015-02-09.npy\", in_out_pair)\n",
    "    print(f\"in_and_out3_{int(sampl_rate*100)}%_1000m_10min_train_2015-01-01_2015-02-09.npy saved.\")\n",
    "elif mode == 'test':\n",
    "    np.save(f\"in_and_out3_{int(sampl_rate*100)}%_1000m_10min_test_2015-02-09_2015-03-01.npy\", in_out_pair)\n",
    "    print(f\"in_and_out3_{int(sampl_rate*100)}%_1000m_10min_test_2015-02-09_2015-03-01.npy saved.\")\n",
    "elif mode == 'test2':\n",
    "    np.save(f\"in_and_out3_{int(sampl_rate*100)}%_1000m_10min_test2_2015-03-01_2015-04-01.npy\", in_out_pair)\n",
    "    print(f\"in_and_out3_{int(sampl_rate*100)}%_1000m_10min_test2_2015-03-01_2015-04-01.npy saved.\")\n",
    "\n",
    "# np.save(\"in_and_out_0.1%_1000m_10min_train_2015-01-01_2015-02-09.npy\", in_out_pair)\n",
    "# np.save(\"in_and_out_0.1%_1000m_10min_test_2015-02-09_2015-03-01.npy\", in_out_pair)\n",
    "# np.save(\"in_and_out_0.1%_1000m_10min_test2_2015-03-01_2015-04-01.npy\", in_out_pair)"
   ]
  },
  {
   "cell_type": "code",
   "execution_count": null,
   "metadata": {},
   "outputs": [],
   "source": []
  },
  {
   "cell_type": "code",
   "execution_count": null,
   "metadata": {},
   "outputs": [],
   "source": []
  },
  {
   "cell_type": "code",
   "execution_count": null,
   "metadata": {},
   "outputs": [],
   "source": []
  },
  {
   "cell_type": "code",
   "execution_count": null,
   "metadata": {},
   "outputs": [],
   "source": []
  }
 ],
 "metadata": {
  "kernelspec": {
   "display_name": "Python 3",
   "language": "python",
   "name": "python3"
  },
  "language_info": {
   "codemirror_mode": {
    "name": "ipython",
    "version": 3
   },
   "file_extension": ".py",
   "mimetype": "text/x-python",
   "name": "python",
   "nbconvert_exporter": "python",
   "pygments_lexer": "ipython3",
   "version": "3.6.12"
  }
 },
 "nbformat": 4,
 "nbformat_minor": 4
}
